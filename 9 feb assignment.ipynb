{
 "cells": [
  {
   "cell_type": "markdown",
   "id": "008da888-e1fc-4d40-ba1a-6672b18f6d5a",
   "metadata": {},
   "source": [
    "# 9 feb assignment"
   ]
  },
  {
   "cell_type": "markdown",
   "id": "a0b2bf1c-dcb8-4666-a3ae-61294fbe8204",
   "metadata": {},
   "source": [
    "# Answer-1"
   ]
  },
  {
   "cell_type": "code",
   "execution_count": 10,
   "id": "1e30a9e7-16ff-4ee8-942b-fb00e6cfc265",
   "metadata": {},
   "outputs": [],
   "source": [
    "class vehicle:\n",
    "    def __init__(self,name_of_vehicle,max_speed,average_speed):\n",
    "        self.name_of_vehicle=name_of_vehicle\n",
    "        self.max_speed=max_speed\n",
    "        self.average_speed=average_speed\n",
    "        \n",
    "  "
   ]
  },
  {
   "cell_type": "markdown",
   "id": "4558ff6a-e154-42fe-8a79-bde6fd519abb",
   "metadata": {},
   "source": [
    "# Answer-2"
   ]
  },
  {
   "cell_type": "code",
   "execution_count": 11,
   "id": "c8e26c32-fcf2-454f-a5a5-fe3b255dd2fe",
   "metadata": {},
   "outputs": [],
   "source": [
    "class car (vehicle):\n",
    "    def seating_capacity(self,capacity):\n",
    "        self.capacity=capacity\n",
    "    def result(self):\n",
    "        return self.name_of_vehicle,self.capacity\n",
    "        \n",
    "    "
   ]
  },
  {
   "cell_type": "code",
   "execution_count": 12,
   "id": "ed98f5df-73eb-4cfd-bfd6-d164ef055b4c",
   "metadata": {},
   "outputs": [],
   "source": [
    "obj_car=car(\"truck\",80,40)"
   ]
  },
  {
   "cell_type": "code",
   "execution_count": 13,
   "id": "fafc4119-51c9-43e8-866a-e0c073158787",
   "metadata": {},
   "outputs": [],
   "source": [
    "obj_car.seating_capacity(5)"
   ]
  },
  {
   "cell_type": "code",
   "execution_count": 14,
   "id": "bf1eec3a-aa72-46f9-a164-6a85e0049bf9",
   "metadata": {},
   "outputs": [
    {
     "data": {
      "text/plain": [
       "('truck', 5)"
      ]
     },
     "execution_count": 14,
     "metadata": {},
     "output_type": "execute_result"
    }
   ],
   "source": [
    "obj_car.result()"
   ]
  },
  {
   "cell_type": "markdown",
   "id": "796c5d34-7028-4089-9eeb-08413f8bd72e",
   "metadata": {},
   "source": [
    "# Answer-3"
   ]
  },
  {
   "cell_type": "code",
   "execution_count": 15,
   "id": "6a938a40-6b53-49bb-82f7-a199e843e645",
   "metadata": {},
   "outputs": [
    {
     "name": "stdout",
     "output_type": "stream",
     "text": [
      "In Class2\n"
     ]
    }
   ],
   "source": [
    "#Inheritance is the mechanism to achieve the re-usability of code as one class(child class) can derive the properties of another class\n",
    "#(parent class). It also provides transitivity ie. if class C inherits from P then all the sub-classes of C would also inherit from P.\n",
    " \n",
    "\n",
    "#Multiple Inheritance \n",
    "#When a class is derived from more than one base class it is called multiple Inheritance. The derived class inherits all the features of \n",
    "#the base case\n",
    "\n",
    "# example:-\n",
    "class Class1:\n",
    "    def m(self):\n",
    "        print(\"In Class1\")\n",
    "       \n",
    "class Class2(Class1):\n",
    "    def m(self):\n",
    "        print(\"In Class2\")\n",
    " \n",
    "class Class3(Class1):\n",
    "    def m(self):\n",
    "        print(\"In Class3\") \n",
    "        \n",
    "class Class4(Class2, Class3):\n",
    "    pass  \n",
    "     \n",
    "obj = Class4()\n",
    "obj.m()\n"
   ]
  },
  {
   "cell_type": "markdown",
   "id": "850c441a-b13c-46b1-a634-f27e57ebd271",
   "metadata": {},
   "source": [
    "# Answer-4"
   ]
  },
  {
   "cell_type": "code",
   "execution_count": 16,
   "id": "20dadacd-b4e1-45b5-b488-7bf2e485cc5a",
   "metadata": {},
   "outputs": [
    {
     "name": "stdout",
     "output_type": "stream",
     "text": [
      "21\n",
      "21\n"
     ]
    }
   ],
   "source": [
    "#In Python, getters and setters are not the same as those in other object-oriented programming languages.\n",
    "#Basically, the main purpose of using getters and setters in object-oriented programs is to ensure data encapsulation. \n",
    "#Private variables in python are not actually hidden fields like in other object oriented languages.\n",
    "#Getters and Setters in python are often used when:\n",
    "\n",
    "#We use getters & setters to add validation logic around getting and setting a value.\n",
    "#To avoid direct access of a class field i.e. private variables cannot be accessed directly or modified by external user.\n",
    "\n",
    "# example:-\n",
    "class Geek:\n",
    "    def __init__(self, age = 0):\n",
    "         self._age = age\n",
    "      \n",
    "    # getter method\n",
    "    def get_age(self):\n",
    "        return self._age\n",
    "      \n",
    "    # setter method\n",
    "    def set_age(self, x):\n",
    "        self._age = x\n",
    "  \n",
    "diya= Geek()\n",
    "  \n",
    "# setting the age using setter\n",
    "diya.set_age(21)\n",
    "  \n",
    "# retrieving age using getter\n",
    "print(diya.get_age())\n",
    "  \n",
    "print(diya._age)"
   ]
  },
  {
   "cell_type": "markdown",
   "id": "ed4d857c-4f0e-429f-94b0-ff29b976622d",
   "metadata": {},
   "source": [
    "# Answer-5"
   ]
  },
  {
   "cell_type": "code",
   "execution_count": 17,
   "id": "395bec8f-1347-4a48-ba8d-af6043142ecb",
   "metadata": {},
   "outputs": [
    {
     "name": "stdout",
     "output_type": "stream",
     "text": [
      "Inside Parent\n",
      "Inside Child\n"
     ]
    }
   ],
   "source": [
    "# Method overriding is an ability of any object-oriented programming language that allows a subclass or child class to provide a \n",
    "#specific implementation of a method that is already provided by one of its super-classes or parent classes. When a method in a subclass \n",
    "#has the same name, same parameters or signature and same return type(or sub-type) as a method in its super-class, then the method in \n",
    "#the subclass is said to override the method in the super-class.\n",
    "\n",
    "# Example:-\n",
    "class Parent():\n",
    "      \n",
    "    # Constructor\n",
    "    def __init__(self):\n",
    "        self.value = \"Inside Parent\"\n",
    "          \n",
    "    # Parent's show method\n",
    "    def show(self):\n",
    "        print(self.value)\n",
    "          \n",
    "# Defining child class\n",
    "class Child(Parent):\n",
    "      \n",
    "    # Constructor\n",
    "    def __init__(self):\n",
    "        self.value = \"Inside Child\"\n",
    "          \n",
    "    # Child's show method\n",
    "    def show(self):\n",
    "        print(self.value)\n",
    "          \n",
    "          \n",
    "# Driver's code\n",
    "obj1 = Parent()\n",
    "obj2 = Child()\n",
    "  \n",
    "obj1.show()\n",
    "obj2.show()"
   ]
  },
  {
   "cell_type": "code",
   "execution_count": null,
   "id": "064b6303-4d50-45fb-997f-972a6d2b4083",
   "metadata": {},
   "outputs": [],
   "source": []
  }
 ],
 "metadata": {
  "kernelspec": {
   "display_name": "Python 3 (ipykernel)",
   "language": "python",
   "name": "python3"
  },
  "language_info": {
   "codemirror_mode": {
    "name": "ipython",
    "version": 3
   },
   "file_extension": ".py",
   "mimetype": "text/x-python",
   "name": "python",
   "nbconvert_exporter": "python",
   "pygments_lexer": "ipython3",
   "version": "3.10.8"
  }
 },
 "nbformat": 4,
 "nbformat_minor": 5
}
